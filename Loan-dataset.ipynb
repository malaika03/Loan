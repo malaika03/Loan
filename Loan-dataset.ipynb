{
 "cells": [
  {
   "cell_type": "code",
   "execution_count": 10,
   "outputs": [],
   "source": [
    "import pandas as pd\n",
    "import numpy as np\n",
    "import sklearn\n",
    "from sklearn.model_selection import train_test_split\n",
    "from sklearn.metrics import accuracy_score\n",
    "import matplotlib.pyplot as plt\n",
    "%matplotlib inline"
   ],
   "metadata": {
    "collapsed": false,
    "ExecuteTime": {
     "end_time": "2023-10-06T13:41:13.760242Z",
     "start_time": "2023-10-06T13:41:08.617059Z"
    }
   },
   "id": "a01fa8524984eb04"
  },
  {
   "cell_type": "code",
   "execution_count": 11,
   "outputs": [
    {
     "name": "stdout",
     "output_type": "stream",
     "text": [
      "Version of sklearn: 1.3.1\n"
     ]
    }
   ],
   "source": [
    "# check version on sklearn\n",
    "print('Version of sklearn:', sklearn.__version__)"
   ],
   "metadata": {
    "collapsed": false,
    "ExecuteTime": {
     "end_time": "2023-10-06T13:41:28.930968Z",
     "start_time": "2023-10-06T13:41:28.912840Z"
    }
   },
   "id": "f3f46d6ff1f163fb"
  },
  {
   "cell_type": "code",
   "execution_count": 14,
   "outputs": [],
   "source": [
    "# loading the pre-processed dataset\n",
    "data = pd.read_csv('loan_prediction_data.csv')"
   ],
   "metadata": {
    "collapsed": false,
    "ExecuteTime": {
     "end_time": "2023-10-06T13:44:44.590815Z",
     "start_time": "2023-10-06T13:44:44.487688Z"
    }
   },
   "id": "56cff21c28c2bb73"
  },
  {
   "cell_type": "code",
   "execution_count": 15,
   "outputs": [
    {
     "data": {
      "text/plain": "    Loan_ID  Gender  Married  Dependents  Education  Self_Employed  \\\n0  LP001002     0.0      0.0    0.000000        1.0            0.0   \n1  LP001003     0.0      1.0    0.333333        1.0            0.0   \n2  LP001005     0.0      1.0    0.000000        1.0            1.0   \n3  LP001006     0.0      1.0    0.000000        0.0            0.0   \n4  LP001008     0.0      0.0    0.000000        1.0            0.0   \n\n   ApplicantIncome  CoapplicantIncome  LoanAmount  Loan_Amount_Term  \\\n0         0.070489           0.000000    0.198860           0.74359   \n1         0.054830           0.036192    0.172214           0.74359   \n2         0.035250           0.000000    0.082489           0.74359   \n3         0.030093           0.056592    0.160637           0.74359   \n4         0.072356           0.000000    0.191027           0.74359   \n\n   Credit_History  Property_Area  Loan_Status  \n0             1.0            1.0          1.0  \n1             1.0            0.0          0.0  \n2             1.0            1.0          1.0  \n3             1.0            1.0          1.0  \n4             1.0            1.0          1.0  ",
      "text/html": "<div>\n<style scoped>\n    .dataframe tbody tr th:only-of-type {\n        vertical-align: middle;\n    }\n\n    .dataframe tbody tr th {\n        vertical-align: top;\n    }\n\n    .dataframe thead th {\n        text-align: right;\n    }\n</style>\n<table border=\"1\" class=\"dataframe\">\n  <thead>\n    <tr style=\"text-align: right;\">\n      <th></th>\n      <th>Loan_ID</th>\n      <th>Gender</th>\n      <th>Married</th>\n      <th>Dependents</th>\n      <th>Education</th>\n      <th>Self_Employed</th>\n      <th>ApplicantIncome</th>\n      <th>CoapplicantIncome</th>\n      <th>LoanAmount</th>\n      <th>Loan_Amount_Term</th>\n      <th>Credit_History</th>\n      <th>Property_Area</th>\n      <th>Loan_Status</th>\n    </tr>\n  </thead>\n  <tbody>\n    <tr>\n      <th>0</th>\n      <td>LP001002</td>\n      <td>0.0</td>\n      <td>0.0</td>\n      <td>0.000000</td>\n      <td>1.0</td>\n      <td>0.0</td>\n      <td>0.070489</td>\n      <td>0.000000</td>\n      <td>0.198860</td>\n      <td>0.74359</td>\n      <td>1.0</td>\n      <td>1.0</td>\n      <td>1.0</td>\n    </tr>\n    <tr>\n      <th>1</th>\n      <td>LP001003</td>\n      <td>0.0</td>\n      <td>1.0</td>\n      <td>0.333333</td>\n      <td>1.0</td>\n      <td>0.0</td>\n      <td>0.054830</td>\n      <td>0.036192</td>\n      <td>0.172214</td>\n      <td>0.74359</td>\n      <td>1.0</td>\n      <td>0.0</td>\n      <td>0.0</td>\n    </tr>\n    <tr>\n      <th>2</th>\n      <td>LP001005</td>\n      <td>0.0</td>\n      <td>1.0</td>\n      <td>0.000000</td>\n      <td>1.0</td>\n      <td>1.0</td>\n      <td>0.035250</td>\n      <td>0.000000</td>\n      <td>0.082489</td>\n      <td>0.74359</td>\n      <td>1.0</td>\n      <td>1.0</td>\n      <td>1.0</td>\n    </tr>\n    <tr>\n      <th>3</th>\n      <td>LP001006</td>\n      <td>0.0</td>\n      <td>1.0</td>\n      <td>0.000000</td>\n      <td>0.0</td>\n      <td>0.0</td>\n      <td>0.030093</td>\n      <td>0.056592</td>\n      <td>0.160637</td>\n      <td>0.74359</td>\n      <td>1.0</td>\n      <td>1.0</td>\n      <td>1.0</td>\n    </tr>\n    <tr>\n      <th>4</th>\n      <td>LP001008</td>\n      <td>0.0</td>\n      <td>0.0</td>\n      <td>0.000000</td>\n      <td>1.0</td>\n      <td>0.0</td>\n      <td>0.072356</td>\n      <td>0.000000</td>\n      <td>0.191027</td>\n      <td>0.74359</td>\n      <td>1.0</td>\n      <td>1.0</td>\n      <td>1.0</td>\n    </tr>\n  </tbody>\n</table>\n</div>"
     },
     "execution_count": 15,
     "metadata": {},
     "output_type": "execute_result"
    }
   ],
   "source": [
    "data.head()"
   ],
   "metadata": {
    "collapsed": false,
    "ExecuteTime": {
     "end_time": "2023-10-06T13:44:57.475065Z",
     "start_time": "2023-10-06T13:44:57.438401Z"
    }
   },
   "id": "baa885964d472ea3"
  },
  {
   "cell_type": "code",
   "execution_count": 17,
   "outputs": [
    {
     "data": {
      "text/plain": "Loan_ID              0\nGender               0\nMarried              0\nDependents           0\nEducation            0\nSelf_Employed        0\nApplicantIncome      0\nCoapplicantIncome    0\nLoanAmount           0\nLoan_Amount_Term     0\nCredit_History       0\nProperty_Area        0\nLoan_Status          0\ndtype: int64"
     },
     "execution_count": 17,
     "metadata": {},
     "output_type": "execute_result"
    }
   ],
   "source": [
    "data.isnull().sum()"
   ],
   "metadata": {
    "collapsed": false,
    "ExecuteTime": {
     "end_time": "2023-10-06T13:45:59.626997Z",
     "start_time": "2023-10-06T13:45:59.600589Z"
    }
   },
   "id": "a993b0326498217e"
  },
  {
   "cell_type": "code",
   "execution_count": 18,
   "outputs": [
    {
     "data": {
      "text/plain": "Loan_ID               object\nGender               float64\nMarried              float64\nDependents           float64\nEducation            float64\nSelf_Employed        float64\nApplicantIncome      float64\nCoapplicantIncome    float64\nLoanAmount           float64\nLoan_Amount_Term     float64\nCredit_History       float64\nProperty_Area        float64\nLoan_Status          float64\ndtype: object"
     },
     "execution_count": 18,
     "metadata": {},
     "output_type": "execute_result"
    }
   ],
   "source": [
    "data.dtypes"
   ],
   "metadata": {
    "collapsed": false,
    "ExecuteTime": {
     "end_time": "2023-10-06T13:46:24.041928Z",
     "start_time": "2023-10-06T13:46:24.023885Z"
    }
   },
   "id": "f509438a21c8f5dc"
  },
  {
   "cell_type": "code",
   "execution_count": 19,
   "outputs": [],
   "source": [
    "data = data.drop('Loan_ID', axis=1)"
   ],
   "metadata": {
    "collapsed": false,
    "ExecuteTime": {
     "end_time": "2023-10-06T13:46:55.299984Z",
     "start_time": "2023-10-06T13:46:55.272511Z"
    }
   },
   "id": "343951e3364d4f97"
  },
  {
   "cell_type": "code",
   "execution_count": 20,
   "outputs": [
    {
     "data": {
      "text/plain": "   Gender  Married  Dependents  Education  Self_Employed  ApplicantIncome  \\\n0     0.0      0.0    0.000000        1.0            0.0         0.070489   \n1     0.0      1.0    0.333333        1.0            0.0         0.054830   \n2     0.0      1.0    0.000000        1.0            1.0         0.035250   \n3     0.0      1.0    0.000000        0.0            0.0         0.030093   \n4     0.0      0.0    0.000000        1.0            0.0         0.072356   \n\n   CoapplicantIncome  LoanAmount  Loan_Amount_Term  Credit_History  \\\n0           0.000000    0.198860           0.74359             1.0   \n1           0.036192    0.172214           0.74359             1.0   \n2           0.000000    0.082489           0.74359             1.0   \n3           0.056592    0.160637           0.74359             1.0   \n4           0.000000    0.191027           0.74359             1.0   \n\n   Property_Area  Loan_Status  \n0            1.0          1.0  \n1            0.0          0.0  \n2            1.0          1.0  \n3            1.0          1.0  \n4            1.0          1.0  ",
      "text/html": "<div>\n<style scoped>\n    .dataframe tbody tr th:only-of-type {\n        vertical-align: middle;\n    }\n\n    .dataframe tbody tr th {\n        vertical-align: top;\n    }\n\n    .dataframe thead th {\n        text-align: right;\n    }\n</style>\n<table border=\"1\" class=\"dataframe\">\n  <thead>\n    <tr style=\"text-align: right;\">\n      <th></th>\n      <th>Gender</th>\n      <th>Married</th>\n      <th>Dependents</th>\n      <th>Education</th>\n      <th>Self_Employed</th>\n      <th>ApplicantIncome</th>\n      <th>CoapplicantIncome</th>\n      <th>LoanAmount</th>\n      <th>Loan_Amount_Term</th>\n      <th>Credit_History</th>\n      <th>Property_Area</th>\n      <th>Loan_Status</th>\n    </tr>\n  </thead>\n  <tbody>\n    <tr>\n      <th>0</th>\n      <td>0.0</td>\n      <td>0.0</td>\n      <td>0.000000</td>\n      <td>1.0</td>\n      <td>0.0</td>\n      <td>0.070489</td>\n      <td>0.000000</td>\n      <td>0.198860</td>\n      <td>0.74359</td>\n      <td>1.0</td>\n      <td>1.0</td>\n      <td>1.0</td>\n    </tr>\n    <tr>\n      <th>1</th>\n      <td>0.0</td>\n      <td>1.0</td>\n      <td>0.333333</td>\n      <td>1.0</td>\n      <td>0.0</td>\n      <td>0.054830</td>\n      <td>0.036192</td>\n      <td>0.172214</td>\n      <td>0.74359</td>\n      <td>1.0</td>\n      <td>0.0</td>\n      <td>0.0</td>\n    </tr>\n    <tr>\n      <th>2</th>\n      <td>0.0</td>\n      <td>1.0</td>\n      <td>0.000000</td>\n      <td>1.0</td>\n      <td>1.0</td>\n      <td>0.035250</td>\n      <td>0.000000</td>\n      <td>0.082489</td>\n      <td>0.74359</td>\n      <td>1.0</td>\n      <td>1.0</td>\n      <td>1.0</td>\n    </tr>\n    <tr>\n      <th>3</th>\n      <td>0.0</td>\n      <td>1.0</td>\n      <td>0.000000</td>\n      <td>0.0</td>\n      <td>0.0</td>\n      <td>0.030093</td>\n      <td>0.056592</td>\n      <td>0.160637</td>\n      <td>0.74359</td>\n      <td>1.0</td>\n      <td>1.0</td>\n      <td>1.0</td>\n    </tr>\n    <tr>\n      <th>4</th>\n      <td>0.0</td>\n      <td>0.0</td>\n      <td>0.000000</td>\n      <td>1.0</td>\n      <td>0.0</td>\n      <td>0.072356</td>\n      <td>0.000000</td>\n      <td>0.191027</td>\n      <td>0.74359</td>\n      <td>1.0</td>\n      <td>1.0</td>\n      <td>1.0</td>\n    </tr>\n  </tbody>\n</table>\n</div>"
     },
     "execution_count": 20,
     "metadata": {},
     "output_type": "execute_result"
    }
   ],
   "source": [
    "data.head()"
   ],
   "metadata": {
    "collapsed": false,
    "ExecuteTime": {
     "end_time": "2023-10-06T13:47:09.158461Z",
     "start_time": "2023-10-06T13:47:09.148146Z"
    }
   },
   "id": "c01a3eb15c543dc7"
  },
  {
   "cell_type": "code",
   "execution_count": 21,
   "outputs": [
    {
     "data": {
      "text/plain": "(614, 12)"
     },
     "execution_count": 21,
     "metadata": {},
     "output_type": "execute_result"
    }
   ],
   "source": [
    "data.shape"
   ],
   "metadata": {
    "collapsed": false,
    "ExecuteTime": {
     "end_time": "2023-10-06T13:47:22.943494Z",
     "start_time": "2023-10-06T13:47:22.885475Z"
    }
   },
   "id": "5e1227efa8e372a5"
  },
  {
   "cell_type": "code",
   "execution_count": 22,
   "outputs": [],
   "source": [
    "# separating the independent and dependent variables\n",
    "# storing all the independent variables as X\n",
    "X = data.drop('Loan_Status', axis=1)\n",
    "\n",
    "# storing the dependent variable as y\n",
    "y = data['Loan_Status']"
   ],
   "metadata": {
    "collapsed": false,
    "ExecuteTime": {
     "end_time": "2023-10-06T13:47:36.653706Z",
     "start_time": "2023-10-06T13:47:36.619678Z"
    }
   },
   "id": "f9a9fd26abcb9f14"
  },
  {
   "cell_type": "code",
   "execution_count": 23,
   "outputs": [
    {
     "data": {
      "text/plain": "((614, 11), (614,))"
     },
     "execution_count": 23,
     "metadata": {},
     "output_type": "execute_result"
    }
   ],
   "source": [
    "# shape of independent and dependent variables\n",
    "X.shape, y.shape"
   ],
   "metadata": {
    "collapsed": false,
    "ExecuteTime": {
     "end_time": "2023-10-06T13:48:11.943453Z",
     "start_time": "2023-10-06T13:48:11.923440Z"
    }
   },
   "id": "fcc875b2a2acc14e"
  },
  {
   "cell_type": "code",
   "execution_count": 24,
   "outputs": [
    {
     "data": {
      "text/plain": "0      1.0\n1      0.0\n2      1.0\n3      1.0\n4      1.0\n      ... \n609    1.0\n610    1.0\n611    1.0\n612    1.0\n613    0.0\nName: Loan_Status, Length: 614, dtype: float64"
     },
     "execution_count": 24,
     "metadata": {},
     "output_type": "execute_result"
    }
   ],
   "source": [
    "y"
   ],
   "metadata": {
    "collapsed": false,
    "ExecuteTime": {
     "end_time": "2023-10-06T13:48:18.959609Z",
     "start_time": "2023-10-06T13:48:18.914105Z"
    }
   },
   "id": "e401a27a901b1041"
  },
  {
   "cell_type": "code",
   "execution_count": 25,
   "outputs": [],
   "source": [
    "# Creating training and validation set\n",
    "# stratify will make sure that the distribution of classes in train and validation set it similar\n",
    "# random state to regenerate the same train and validation set\n",
    "# test size 0.2 will keep 20% data in validation and remaining 80% in train set\n",
    "\n",
    "X_train,X_test,y_train,y_test = train_test_split(X,y,stratify=data['Loan_Status'],random_state=10,test_size=0.2)"
   ],
   "metadata": {
    "collapsed": false,
    "ExecuteTime": {
     "end_time": "2023-10-06T13:49:19.746729Z",
     "start_time": "2023-10-06T13:49:19.704511Z"
    }
   },
   "id": "66c8484604390fa8"
  },
  {
   "cell_type": "code",
   "execution_count": 26,
   "outputs": [
    {
     "data": {
      "text/plain": "(((491, 11), (491,)), ((123, 11), (123,)))"
     },
     "execution_count": 26,
     "metadata": {},
     "output_type": "execute_result"
    }
   ],
   "source": [
    "# shape of training and validation set\n",
    "(X_train.shape, y_train.shape), (X_test.shape, y_test.shape)"
   ],
   "metadata": {
    "collapsed": false,
    "ExecuteTime": {
     "end_time": "2023-10-06T13:49:32.104721Z",
     "start_time": "2023-10-06T13:49:32.002454Z"
    }
   },
   "id": "7e47feee8a4c1853"
  },
  {
   "cell_type": "code",
   "execution_count": 27,
   "outputs": [
    {
     "data": {
      "text/plain": "     Gender  Married  Dependents  Education  Self_Employed  ApplicantIncome  \\\n164     0.0      1.0    0.000000        1.0            0.0         0.113457   \n171     0.0      1.0    1.000000        1.0            0.0         0.638380   \n546     0.0      0.0    0.000000        0.0            0.0         0.039678   \n226     0.0      1.0    0.000000        0.0            1.0         0.056710   \n176     0.0      1.0    0.666667        1.0            0.0         0.023438   \n..      ...      ...         ...        ...            ...              ...   \n560     0.0      1.0    0.666667        0.0            0.0         0.043599   \n503     0.0      1.0    0.333333        0.0            0.0         0.048237   \n343     0.0      1.0    1.000000        0.0            0.0         0.037390   \n148     1.0      0.0    0.000000        1.0            0.0         0.121831   \n303     0.0      1.0    0.333333        1.0            0.0         0.018244   \n\n     CoapplicantIncome  LoanAmount  Loan_Amount_Term  Credit_History  \\\n164           0.000000    0.095514          0.358974             1.0   \n171           0.000000    1.000000          0.615385             1.0   \n546           0.000000    0.102750          0.051282             1.0   \n226           0.000000    0.186686          0.743590             1.0   \n176           0.038856    0.133140          0.743590             1.0   \n..                 ...         ...               ...             ...   \n560           0.005808    0.143271          0.743590             1.0   \n503           0.127247    0.186686          0.743590             1.0   \n343           0.000000    0.094067          0.743590             1.0   \n148           0.039984    0.312590          0.743590             1.0   \n303           0.043272    0.125904          0.743590             1.0   \n\n     Property_Area  \n164            1.0  \n171            1.0  \n546            0.5  \n226            1.0  \n176            0.0  \n..             ...  \n560            0.5  \n503            0.0  \n343            0.5  \n148            0.0  \n303            1.0  \n\n[491 rows x 11 columns]",
      "text/html": "<div>\n<style scoped>\n    .dataframe tbody tr th:only-of-type {\n        vertical-align: middle;\n    }\n\n    .dataframe tbody tr th {\n        vertical-align: top;\n    }\n\n    .dataframe thead th {\n        text-align: right;\n    }\n</style>\n<table border=\"1\" class=\"dataframe\">\n  <thead>\n    <tr style=\"text-align: right;\">\n      <th></th>\n      <th>Gender</th>\n      <th>Married</th>\n      <th>Dependents</th>\n      <th>Education</th>\n      <th>Self_Employed</th>\n      <th>ApplicantIncome</th>\n      <th>CoapplicantIncome</th>\n      <th>LoanAmount</th>\n      <th>Loan_Amount_Term</th>\n      <th>Credit_History</th>\n      <th>Property_Area</th>\n    </tr>\n  </thead>\n  <tbody>\n    <tr>\n      <th>164</th>\n      <td>0.0</td>\n      <td>1.0</td>\n      <td>0.000000</td>\n      <td>1.0</td>\n      <td>0.0</td>\n      <td>0.113457</td>\n      <td>0.000000</td>\n      <td>0.095514</td>\n      <td>0.358974</td>\n      <td>1.0</td>\n      <td>1.0</td>\n    </tr>\n    <tr>\n      <th>171</th>\n      <td>0.0</td>\n      <td>1.0</td>\n      <td>1.000000</td>\n      <td>1.0</td>\n      <td>0.0</td>\n      <td>0.638380</td>\n      <td>0.000000</td>\n      <td>1.000000</td>\n      <td>0.615385</td>\n      <td>1.0</td>\n      <td>1.0</td>\n    </tr>\n    <tr>\n      <th>546</th>\n      <td>0.0</td>\n      <td>0.0</td>\n      <td>0.000000</td>\n      <td>0.0</td>\n      <td>0.0</td>\n      <td>0.039678</td>\n      <td>0.000000</td>\n      <td>0.102750</td>\n      <td>0.051282</td>\n      <td>1.0</td>\n      <td>0.5</td>\n    </tr>\n    <tr>\n      <th>226</th>\n      <td>0.0</td>\n      <td>1.0</td>\n      <td>0.000000</td>\n      <td>0.0</td>\n      <td>1.0</td>\n      <td>0.056710</td>\n      <td>0.000000</td>\n      <td>0.186686</td>\n      <td>0.743590</td>\n      <td>1.0</td>\n      <td>1.0</td>\n    </tr>\n    <tr>\n      <th>176</th>\n      <td>0.0</td>\n      <td>1.0</td>\n      <td>0.666667</td>\n      <td>1.0</td>\n      <td>0.0</td>\n      <td>0.023438</td>\n      <td>0.038856</td>\n      <td>0.133140</td>\n      <td>0.743590</td>\n      <td>1.0</td>\n      <td>0.0</td>\n    </tr>\n    <tr>\n      <th>...</th>\n      <td>...</td>\n      <td>...</td>\n      <td>...</td>\n      <td>...</td>\n      <td>...</td>\n      <td>...</td>\n      <td>...</td>\n      <td>...</td>\n      <td>...</td>\n      <td>...</td>\n      <td>...</td>\n    </tr>\n    <tr>\n      <th>560</th>\n      <td>0.0</td>\n      <td>1.0</td>\n      <td>0.666667</td>\n      <td>0.0</td>\n      <td>0.0</td>\n      <td>0.043599</td>\n      <td>0.005808</td>\n      <td>0.143271</td>\n      <td>0.743590</td>\n      <td>1.0</td>\n      <td>0.5</td>\n    </tr>\n    <tr>\n      <th>503</th>\n      <td>0.0</td>\n      <td>1.0</td>\n      <td>0.333333</td>\n      <td>0.0</td>\n      <td>0.0</td>\n      <td>0.048237</td>\n      <td>0.127247</td>\n      <td>0.186686</td>\n      <td>0.743590</td>\n      <td>1.0</td>\n      <td>0.0</td>\n    </tr>\n    <tr>\n      <th>343</th>\n      <td>0.0</td>\n      <td>1.0</td>\n      <td>1.000000</td>\n      <td>0.0</td>\n      <td>0.0</td>\n      <td>0.037390</td>\n      <td>0.000000</td>\n      <td>0.094067</td>\n      <td>0.743590</td>\n      <td>1.0</td>\n      <td>0.5</td>\n    </tr>\n    <tr>\n      <th>148</th>\n      <td>1.0</td>\n      <td>0.0</td>\n      <td>0.000000</td>\n      <td>1.0</td>\n      <td>0.0</td>\n      <td>0.121831</td>\n      <td>0.039984</td>\n      <td>0.312590</td>\n      <td>0.743590</td>\n      <td>1.0</td>\n      <td>0.0</td>\n    </tr>\n    <tr>\n      <th>303</th>\n      <td>0.0</td>\n      <td>1.0</td>\n      <td>0.333333</td>\n      <td>1.0</td>\n      <td>0.0</td>\n      <td>0.018244</td>\n      <td>0.043272</td>\n      <td>0.125904</td>\n      <td>0.743590</td>\n      <td>1.0</td>\n      <td>1.0</td>\n    </tr>\n  </tbody>\n</table>\n<p>491 rows × 11 columns</p>\n</div>"
     },
     "execution_count": 27,
     "metadata": {},
     "output_type": "execute_result"
    }
   ],
   "source": [
    "X_train"
   ],
   "metadata": {
    "collapsed": false,
    "ExecuteTime": {
     "end_time": "2023-10-06T13:49:51.977183Z",
     "start_time": "2023-10-06T13:49:51.967545Z"
    }
   },
   "id": "ddab617fff7f7108"
  },
  {
   "cell_type": "code",
   "execution_count": 32,
   "outputs": [
    {
     "name": "stdout",
     "output_type": "stream",
     "text": [
      "2.14.0\n"
     ]
    }
   ],
   "source": [
    "# checking the version of keras\n",
    "import keras\n",
    "print(keras.__version__)"
   ],
   "metadata": {
    "collapsed": false,
    "ExecuteTime": {
     "end_time": "2023-10-06T13:54:25.374922Z",
     "start_time": "2023-10-06T13:54:25.335907Z"
    }
   },
   "id": "8e6c89d2ee2e2401"
  },
  {
   "cell_type": "code",
   "execution_count": 33,
   "outputs": [
    {
     "name": "stdout",
     "output_type": "stream",
     "text": [
      "2.14.0\n"
     ]
    }
   ],
   "source": [
    "# checking the version of tensorflow\n",
    "import tensorflow as tf\n",
    "print(tf.__version__)"
   ],
   "metadata": {
    "collapsed": false,
    "ExecuteTime": {
     "end_time": "2023-10-06T13:54:27.683832Z",
     "start_time": "2023-10-06T13:54:27.668778Z"
    }
   },
   "id": "d7461a819219d437"
  },
  {
   "cell_type": "code",
   "execution_count": 34,
   "outputs": [],
   "source": [
    "# importing the sequential model\n",
    "from keras.models import Sequential"
   ],
   "metadata": {
    "collapsed": false,
    "ExecuteTime": {
     "end_time": "2023-10-06T13:54:46.099858Z",
     "start_time": "2023-10-06T13:54:46.062190Z"
    }
   },
   "id": "73389a12be95ecae"
  },
  {
   "cell_type": "code",
   "execution_count": 35,
   "outputs": [],
   "source": [
    "# importing different layers from keras\n",
    "from keras.layers import InputLayer, Dense "
   ],
   "metadata": {
    "collapsed": false,
    "ExecuteTime": {
     "end_time": "2023-10-06T13:55:01.536527Z",
     "start_time": "2023-10-06T13:55:01.499638Z"
    }
   },
   "id": "e5114ad285a70a09"
  },
  {
   "cell_type": "code",
   "execution_count": 36,
   "outputs": [
    {
     "data": {
      "text/plain": "(491, 11)"
     },
     "execution_count": 36,
     "metadata": {},
     "output_type": "execute_result"
    }
   ],
   "source": [
    "X_train.shape"
   ],
   "metadata": {
    "collapsed": false,
    "ExecuteTime": {
     "end_time": "2023-10-06T13:55:16.477600Z",
     "start_time": "2023-10-06T13:55:16.380757Z"
    }
   },
   "id": "7df2c91da7aacff"
  },
  {
   "cell_type": "code",
   "execution_count": 37,
   "outputs": [
    {
     "data": {
      "text/plain": "11"
     },
     "execution_count": 37,
     "metadata": {},
     "output_type": "execute_result"
    }
   ],
   "source": [
    "# numbers of features in this data\n",
    "X_train.shape[1]"
   ],
   "metadata": {
    "collapsed": false,
    "ExecuteTime": {
     "end_time": "2023-10-06T19:03:35.523779Z",
     "start_time": "2023-10-06T19:03:35.493915Z"
    }
   },
   "id": "5d6f52b14dd42e55"
  },
  {
   "cell_type": "code",
   "execution_count": 38,
   "outputs": [
    {
     "data": {
      "text/plain": "11"
     },
     "execution_count": 38,
     "metadata": {},
     "output_type": "execute_result"
    }
   ],
   "source": [
    "# defining input neurons\n",
    "input_neurons = X_train.shape[1]\n",
    "input_neurons"
   ],
   "metadata": {
    "collapsed": false,
    "ExecuteTime": {
     "end_time": "2023-10-06T19:04:32.887507Z",
     "start_time": "2023-10-06T19:04:32.857539Z"
    }
   },
   "id": "2543e0c429ae80da"
  },
  {
   "cell_type": "code",
   "execution_count": 39,
   "outputs": [],
   "source": [
    "# numbers of output neurons\n",
    "# since loan prediction is a binary classification problem, we will have single neuron in the output layer "
   ],
   "metadata": {
    "collapsed": false,
    "ExecuteTime": {
     "end_time": "2023-10-06T19:05:30.491322Z",
     "start_time": "2023-10-06T19:05:30.473082Z"
    }
   },
   "id": "2fe83b1c50cfc6a0"
  },
  {
   "cell_type": "code",
   "execution_count": 40,
   "outputs": [],
   "source": [
    "# define number of output neurons\n",
    "output_neurons = 1"
   ],
   "metadata": {
    "collapsed": false,
    "ExecuteTime": {
     "end_time": "2023-10-06T19:06:14.500277Z",
     "start_time": "2023-10-06T19:06:14.478423Z"
    }
   },
   "id": "b932a5da1048e5f9"
  },
  {
   "cell_type": "code",
   "execution_count": 41,
   "outputs": [],
   "source": [
    "# number of hidden layers and hidden neurons\n",
    "# It is a hyperparameter, and we can pick the hidden layers and hidden neurons on our own"
   ],
   "metadata": {
    "collapsed": false,
    "ExecuteTime": {
     "end_time": "2023-10-06T19:06:41.296912Z",
     "start_time": "2023-10-06T19:06:41.276303Z"
    }
   },
   "id": "77583c3fea0364d2"
  },
  {
   "cell_type": "code",
   "execution_count": 42,
   "outputs": [],
   "source": [
    "# define hidden layers and neurons in each layer\n",
    "number_of_hidden_layers = 2\n",
    "neuron_hidden_layer_1 = 20\n",
    "neuron_hidden_layer_2 = 10 "
   ],
   "metadata": {
    "collapsed": false,
    "ExecuteTime": {
     "end_time": "2023-10-06T19:08:44.011777Z",
     "start_time": "2023-10-06T19:08:43.979923Z"
    }
   },
   "id": "75d49a60d6d07a7c"
  },
  {
   "cell_type": "code",
   "execution_count": 43,
   "outputs": [],
   "source": [
    "# activation function of different layers\n",
    "# as for now we have picked relu as an activation function for hidden layers, you can change it as well\n",
    "# since it is a binary classification problem, we have used sigmoid activation function in the final layer"
   ],
   "metadata": {
    "collapsed": false,
    "ExecuteTime": {
     "end_time": "2023-10-06T19:09:15.469600Z",
     "start_time": "2023-10-06T19:09:15.448606Z"
    }
   },
   "id": "d626a5afcf0f349b"
  },
  {
   "cell_type": "code",
   "execution_count": 44,
   "outputs": [],
   "source": [
    "# defining the architecture of the model\n",
    "model = Sequential()\n",
    "model.add(InputLayer(input_shape=(input_neurons,)))\n",
    "model.add(Dense(units=neuron_hidden_layer_1, activation='relu'))\n",
    "model.add(Dense(units=neuron_hidden_layer_2, activation='relu'))\n",
    "model.add(Dense(units=output_neurons, activation='sigmoid'))"
   ],
   "metadata": {
    "collapsed": false,
    "ExecuteTime": {
     "end_time": "2023-10-06T19:09:42.523527Z",
     "start_time": "2023-10-06T19:09:41.648971Z"
    }
   },
   "id": "17cea40fb4a0710"
  },
  {
   "cell_type": "code",
   "execution_count": 46,
   "outputs": [
    {
     "name": "stdout",
     "output_type": "stream",
     "text": [
      "Model: \"sequential\"\n",
      "_________________________________________________________________\n",
      " Layer (type)                Output Shape              Param #   \n",
      "=================================================================\n",
      " dense (Dense)               (None, 20)                240       \n",
      "                                                                 \n",
      " dense_1 (Dense)             (None, 10)                210       \n",
      "                                                                 \n",
      " dense_2 (Dense)             (None, 1)                 11        \n",
      "                                                                 \n",
      "=================================================================\n",
      "Total params: 461 (1.80 KB)\n",
      "Trainable params: 461 (1.80 KB)\n",
      "Non-trainable params: 0 (0.00 Byte)\n",
      "_________________________________________________________________\n"
     ]
    }
   ],
   "source": [
    "# summary of the model\n",
    "model.summary()"
   ],
   "metadata": {
    "collapsed": false,
    "ExecuteTime": {
     "end_time": "2023-10-06T19:18:22.432172Z",
     "start_time": "2023-10-06T19:18:22.360860Z"
    }
   },
   "id": "857ddbbe957717c6"
  },
  {
   "cell_type": "code",
   "execution_count": 47,
   "outputs": [
    {
     "data": {
      "text/plain": "220"
     },
     "execution_count": 47,
     "metadata": {},
     "output_type": "execute_result"
    }
   ],
   "source": [
    "# number of parameters between input and first hidden layer\n",
    "input_neurons*neuron_hidden_layer_1"
   ],
   "metadata": {
    "collapsed": false,
    "ExecuteTime": {
     "end_time": "2023-10-06T19:19:32.672140Z",
     "start_time": "2023-10-06T19:19:32.646718Z"
    }
   },
   "id": "f897ca747d947f9d"
  },
  {
   "cell_type": "code",
   "execution_count": 48,
   "outputs": [
    {
     "data": {
      "text/plain": "240"
     },
     "execution_count": 48,
     "metadata": {},
     "output_type": "execute_result"
    }
   ],
   "source": [
    "# number of parameters between input and first hidden layer\n",
    "# adding the bias for each neuron of first hidden layer\n",
    "input_neurons*neuron_hidden_layer_1 + 20"
   ],
   "metadata": {
    "collapsed": false,
    "ExecuteTime": {
     "end_time": "2023-10-06T19:20:15.631134Z",
     "start_time": "2023-10-06T19:20:15.607657Z"
    }
   },
   "id": "b8d260bd060f7be2"
  },
  {
   "cell_type": "code",
   "execution_count": 49,
   "outputs": [
    {
     "data": {
      "text/plain": "210"
     },
     "execution_count": 49,
     "metadata": {},
     "output_type": "execute_result"
    }
   ],
   "source": [
    "# number of parameters between first and second hidden layer\n",
    "neuron_hidden_layer_1*neuron_hidden_layer_2 + 10"
   ],
   "metadata": {
    "collapsed": false,
    "ExecuteTime": {
     "end_time": "2023-10-06T19:32:00.930137Z",
     "start_time": "2023-10-06T19:32:00.899489Z"
    }
   },
   "id": "ad441be90f622e33"
  },
  {
   "cell_type": "code",
   "execution_count": 50,
   "outputs": [
    {
     "data": {
      "text/plain": "11"
     },
     "execution_count": 50,
     "metadata": {},
     "output_type": "execute_result"
    }
   ],
   "source": [
    "# number of parameters between second hidden and output layer\n",
    "neuron_hidden_layer_2*output_neurons + 1"
   ],
   "metadata": {
    "collapsed": false,
    "ExecuteTime": {
     "end_time": "2023-10-06T19:32:14.539723Z",
     "start_time": "2023-10-06T19:32:14.514487Z"
    }
   },
   "id": "bc807c13d4be1f59"
  },
  {
   "cell_type": "code",
   "execution_count": 56,
   "outputs": [],
   "source": [
    "# compiling the model\n",
    "\n",
    "# loss as binary_crossentropy, since we have binary classification problem\n",
    "# defining the optimizer as adam\n",
    "# Evaluation metric as accuracy\n",
    "model.compile(loss='binary_crossentropy',optimizer='Adam',metrics=['accuracy'])"
   ],
   "metadata": {
    "collapsed": false,
    "ExecuteTime": {
     "end_time": "2023-10-06T19:43:03.150733Z",
     "start_time": "2023-10-06T19:43:03.139738Z"
    }
   },
   "id": "e4baf9bb95740bd3"
  },
  {
   "cell_type": "code",
   "execution_count": 57,
   "outputs": [
    {
     "name": "stdout",
     "output_type": "stream",
     "text": [
      "Epoch 1/100\n",
      "16/16 [==============================] - 1s 15ms/step - loss: 0.7781 - accuracy: 0.3360 - val_loss: 0.7174 - val_accuracy: 0.3740\n",
      "Epoch 2/100\n",
      "16/16 [==============================] - 0s 3ms/step - loss: 0.6942 - accuracy: 0.5275 - val_loss: 0.6469 - val_accuracy: 0.6585\n",
      "Epoch 3/100\n",
      "16/16 [==============================] - 0s 3ms/step - loss: 0.6327 - accuracy: 0.7067 - val_loss: 0.6072 - val_accuracy: 0.7236\n",
      "Epoch 4/100\n",
      "16/16 [==============================] - 0s 3ms/step - loss: 0.5991 - accuracy: 0.7189 - val_loss: 0.5823 - val_accuracy: 0.6992\n",
      "Epoch 5/100\n",
      "16/16 [==============================] - 0s 3ms/step - loss: 0.5788 - accuracy: 0.7026 - val_loss: 0.5674 - val_accuracy: 0.7073\n",
      "Epoch 6/100\n",
      "16/16 [==============================] - 0s 4ms/step - loss: 0.5638 - accuracy: 0.7128 - val_loss: 0.5551 - val_accuracy: 0.7073\n",
      "Epoch 7/100\n",
      "16/16 [==============================] - 0s 3ms/step - loss: 0.5507 - accuracy: 0.7373 - val_loss: 0.5426 - val_accuracy: 0.7398\n",
      "Epoch 8/100\n",
      "16/16 [==============================] - 0s 4ms/step - loss: 0.5384 - accuracy: 0.7678 - val_loss: 0.5317 - val_accuracy: 0.7724\n",
      "Epoch 9/100\n",
      "16/16 [==============================] - 0s 3ms/step - loss: 0.5280 - accuracy: 0.8004 - val_loss: 0.5207 - val_accuracy: 0.7805\n",
      "Epoch 10/100\n",
      "16/16 [==============================] - 0s 3ms/step - loss: 0.5174 - accuracy: 0.8086 - val_loss: 0.5101 - val_accuracy: 0.8049\n",
      "Epoch 11/100\n",
      "16/16 [==============================] - 0s 4ms/step - loss: 0.5078 - accuracy: 0.8106 - val_loss: 0.5029 - val_accuracy: 0.8049\n",
      "Epoch 12/100\n",
      "16/16 [==============================] - 0s 3ms/step - loss: 0.5005 - accuracy: 0.8106 - val_loss: 0.4967 - val_accuracy: 0.8130\n",
      "Epoch 13/100\n",
      "16/16 [==============================] - 0s 3ms/step - loss: 0.4954 - accuracy: 0.8106 - val_loss: 0.4905 - val_accuracy: 0.8130\n",
      "Epoch 14/100\n",
      "16/16 [==============================] - 0s 3ms/step - loss: 0.4881 - accuracy: 0.8106 - val_loss: 0.4870 - val_accuracy: 0.8130\n",
      "Epoch 15/100\n",
      "16/16 [==============================] - 0s 3ms/step - loss: 0.4850 - accuracy: 0.8106 - val_loss: 0.4843 - val_accuracy: 0.8130\n",
      "Epoch 16/100\n",
      "16/16 [==============================] - 0s 3ms/step - loss: 0.4797 - accuracy: 0.8106 - val_loss: 0.4815 - val_accuracy: 0.8130\n",
      "Epoch 17/100\n",
      "16/16 [==============================] - 0s 3ms/step - loss: 0.4772 - accuracy: 0.8106 - val_loss: 0.4792 - val_accuracy: 0.8130\n",
      "Epoch 18/100\n",
      "16/16 [==============================] - 0s 3ms/step - loss: 0.4748 - accuracy: 0.8106 - val_loss: 0.4774 - val_accuracy: 0.8130\n",
      "Epoch 19/100\n",
      "16/16 [==============================] - 0s 3ms/step - loss: 0.4735 - accuracy: 0.8106 - val_loss: 0.4766 - val_accuracy: 0.8130\n",
      "Epoch 20/100\n",
      "16/16 [==============================] - 0s 3ms/step - loss: 0.4694 - accuracy: 0.8126 - val_loss: 0.4749 - val_accuracy: 0.8130\n",
      "Epoch 21/100\n",
      "16/16 [==============================] - 0s 3ms/step - loss: 0.4684 - accuracy: 0.8126 - val_loss: 0.4740 - val_accuracy: 0.8130\n",
      "Epoch 22/100\n",
      "16/16 [==============================] - 0s 3ms/step - loss: 0.4667 - accuracy: 0.8126 - val_loss: 0.4729 - val_accuracy: 0.8130\n",
      "Epoch 23/100\n",
      "16/16 [==============================] - 0s 3ms/step - loss: 0.4657 - accuracy: 0.8126 - val_loss: 0.4720 - val_accuracy: 0.8130\n",
      "Epoch 24/100\n",
      "16/16 [==============================] - 0s 3ms/step - loss: 0.4645 - accuracy: 0.8126 - val_loss: 0.4718 - val_accuracy: 0.8130\n",
      "Epoch 25/100\n",
      "16/16 [==============================] - 0s 3ms/step - loss: 0.4639 - accuracy: 0.8126 - val_loss: 0.4717 - val_accuracy: 0.8130\n",
      "Epoch 26/100\n",
      "16/16 [==============================] - 0s 3ms/step - loss: 0.4625 - accuracy: 0.8126 - val_loss: 0.4713 - val_accuracy: 0.8130\n",
      "Epoch 27/100\n",
      "16/16 [==============================] - 0s 3ms/step - loss: 0.4621 - accuracy: 0.8126 - val_loss: 0.4706 - val_accuracy: 0.8130\n",
      "Epoch 28/100\n",
      "16/16 [==============================] - 0s 3ms/step - loss: 0.4604 - accuracy: 0.8126 - val_loss: 0.4706 - val_accuracy: 0.8130\n",
      "Epoch 29/100\n",
      "16/16 [==============================] - 0s 3ms/step - loss: 0.4597 - accuracy: 0.8126 - val_loss: 0.4700 - val_accuracy: 0.8130\n",
      "Epoch 30/100\n",
      "16/16 [==============================] - 0s 3ms/step - loss: 0.4592 - accuracy: 0.8126 - val_loss: 0.4703 - val_accuracy: 0.8130\n",
      "Epoch 31/100\n",
      "16/16 [==============================] - 0s 3ms/step - loss: 0.4587 - accuracy: 0.8126 - val_loss: 0.4709 - val_accuracy: 0.8130\n",
      "Epoch 32/100\n",
      "16/16 [==============================] - 0s 3ms/step - loss: 0.4568 - accuracy: 0.8126 - val_loss: 0.4700 - val_accuracy: 0.8130\n",
      "Epoch 33/100\n",
      "16/16 [==============================] - 0s 3ms/step - loss: 0.4569 - accuracy: 0.8126 - val_loss: 0.4696 - val_accuracy: 0.8130\n",
      "Epoch 34/100\n",
      "16/16 [==============================] - 0s 3ms/step - loss: 0.4567 - accuracy: 0.8126 - val_loss: 0.4696 - val_accuracy: 0.8130\n",
      "Epoch 35/100\n",
      "16/16 [==============================] - 0s 3ms/step - loss: 0.4561 - accuracy: 0.8126 - val_loss: 0.4697 - val_accuracy: 0.8130\n",
      "Epoch 36/100\n",
      "16/16 [==============================] - 0s 3ms/step - loss: 0.4541 - accuracy: 0.8126 - val_loss: 0.4695 - val_accuracy: 0.8130\n",
      "Epoch 37/100\n",
      "16/16 [==============================] - 0s 3ms/step - loss: 0.4538 - accuracy: 0.8126 - val_loss: 0.4696 - val_accuracy: 0.8130\n",
      "Epoch 38/100\n",
      "16/16 [==============================] - 0s 3ms/step - loss: 0.4529 - accuracy: 0.8126 - val_loss: 0.4687 - val_accuracy: 0.8130\n",
      "Epoch 39/100\n",
      "16/16 [==============================] - 0s 3ms/step - loss: 0.4520 - accuracy: 0.8126 - val_loss: 0.4689 - val_accuracy: 0.8130\n",
      "Epoch 40/100\n",
      "16/16 [==============================] - 0s 3ms/step - loss: 0.4523 - accuracy: 0.8126 - val_loss: 0.4687 - val_accuracy: 0.8130\n",
      "Epoch 41/100\n",
      "16/16 [==============================] - 0s 3ms/step - loss: 0.4514 - accuracy: 0.8126 - val_loss: 0.4682 - val_accuracy: 0.8130\n",
      "Epoch 42/100\n",
      "16/16 [==============================] - 0s 3ms/step - loss: 0.4522 - accuracy: 0.8147 - val_loss: 0.4688 - val_accuracy: 0.8130\n",
      "Epoch 43/100\n",
      "16/16 [==============================] - 0s 3ms/step - loss: 0.4504 - accuracy: 0.8126 - val_loss: 0.4681 - val_accuracy: 0.8130\n",
      "Epoch 44/100\n",
      "16/16 [==============================] - 0s 3ms/step - loss: 0.4508 - accuracy: 0.8126 - val_loss: 0.4686 - val_accuracy: 0.8130\n",
      "Epoch 45/100\n",
      "16/16 [==============================] - 0s 3ms/step - loss: 0.4529 - accuracy: 0.8126 - val_loss: 0.4705 - val_accuracy: 0.8130\n",
      "Epoch 46/100\n",
      "16/16 [==============================] - 0s 3ms/step - loss: 0.4517 - accuracy: 0.8126 - val_loss: 0.4690 - val_accuracy: 0.8130\n",
      "Epoch 47/100\n",
      "16/16 [==============================] - 0s 3ms/step - loss: 0.4521 - accuracy: 0.8147 - val_loss: 0.4705 - val_accuracy: 0.8130\n",
      "Epoch 48/100\n",
      "16/16 [==============================] - 0s 3ms/step - loss: 0.4480 - accuracy: 0.8126 - val_loss: 0.4690 - val_accuracy: 0.8130\n",
      "Epoch 49/100\n",
      "16/16 [==============================] - 0s 3ms/step - loss: 0.4482 - accuracy: 0.8126 - val_loss: 0.4692 - val_accuracy: 0.8130\n",
      "Epoch 50/100\n",
      "16/16 [==============================] - 0s 3ms/step - loss: 0.4482 - accuracy: 0.8126 - val_loss: 0.4689 - val_accuracy: 0.8130\n",
      "Epoch 51/100\n",
      "16/16 [==============================] - 0s 3ms/step - loss: 0.4467 - accuracy: 0.8126 - val_loss: 0.4693 - val_accuracy: 0.8130\n",
      "Epoch 52/100\n",
      "16/16 [==============================] - 0s 3ms/step - loss: 0.4478 - accuracy: 0.8126 - val_loss: 0.4702 - val_accuracy: 0.8130\n",
      "Epoch 53/100\n",
      "16/16 [==============================] - 0s 3ms/step - loss: 0.4474 - accuracy: 0.8126 - val_loss: 0.4702 - val_accuracy: 0.8130\n",
      "Epoch 54/100\n",
      "16/16 [==============================] - 0s 3ms/step - loss: 0.4470 - accuracy: 0.8126 - val_loss: 0.4696 - val_accuracy: 0.8130\n",
      "Epoch 55/100\n",
      "16/16 [==============================] - 0s 3ms/step - loss: 0.4492 - accuracy: 0.8147 - val_loss: 0.4695 - val_accuracy: 0.8130\n",
      "Epoch 56/100\n",
      "16/16 [==============================] - 0s 3ms/step - loss: 0.4465 - accuracy: 0.8126 - val_loss: 0.4698 - val_accuracy: 0.8130\n",
      "Epoch 57/100\n",
      "16/16 [==============================] - 0s 3ms/step - loss: 0.4475 - accuracy: 0.8167 - val_loss: 0.4722 - val_accuracy: 0.8211\n",
      "Epoch 58/100\n",
      "16/16 [==============================] - 0s 3ms/step - loss: 0.4455 - accuracy: 0.8126 - val_loss: 0.4701 - val_accuracy: 0.8130\n",
      "Epoch 59/100\n",
      "16/16 [==============================] - 0s 3ms/step - loss: 0.4458 - accuracy: 0.8126 - val_loss: 0.4700 - val_accuracy: 0.8130\n",
      "Epoch 60/100\n",
      "16/16 [==============================] - 0s 3ms/step - loss: 0.4473 - accuracy: 0.8126 - val_loss: 0.4695 - val_accuracy: 0.8130\n",
      "Epoch 61/100\n",
      "16/16 [==============================] - 0s 3ms/step - loss: 0.4445 - accuracy: 0.8126 - val_loss: 0.4700 - val_accuracy: 0.8211\n",
      "Epoch 62/100\n",
      "16/16 [==============================] - 0s 3ms/step - loss: 0.4432 - accuracy: 0.8147 - val_loss: 0.4699 - val_accuracy: 0.8211\n",
      "Epoch 63/100\n",
      "16/16 [==============================] - 0s 3ms/step - loss: 0.4449 - accuracy: 0.8147 - val_loss: 0.4706 - val_accuracy: 0.8211\n",
      "Epoch 64/100\n",
      "16/16 [==============================] - 0s 4ms/step - loss: 0.4439 - accuracy: 0.8147 - val_loss: 0.4738 - val_accuracy: 0.8211\n",
      "Epoch 65/100\n",
      "16/16 [==============================] - 0s 3ms/step - loss: 0.4479 - accuracy: 0.8126 - val_loss: 0.4710 - val_accuracy: 0.8130\n",
      "Epoch 66/100\n",
      "16/16 [==============================] - 0s 3ms/step - loss: 0.4426 - accuracy: 0.8147 - val_loss: 0.4718 - val_accuracy: 0.8211\n",
      "Epoch 67/100\n",
      "16/16 [==============================] - 0s 3ms/step - loss: 0.4435 - accuracy: 0.8167 - val_loss: 0.4705 - val_accuracy: 0.8211\n",
      "Epoch 68/100\n",
      "16/16 [==============================] - 0s 3ms/step - loss: 0.4431 - accuracy: 0.8126 - val_loss: 0.4705 - val_accuracy: 0.8211\n",
      "Epoch 69/100\n",
      "16/16 [==============================] - 0s 3ms/step - loss: 0.4427 - accuracy: 0.8147 - val_loss: 0.4716 - val_accuracy: 0.8211\n",
      "Epoch 70/100\n",
      "16/16 [==============================] - 0s 3ms/step - loss: 0.4414 - accuracy: 0.8147 - val_loss: 0.4712 - val_accuracy: 0.8130\n",
      "Epoch 71/100\n",
      "16/16 [==============================] - 0s 3ms/step - loss: 0.4410 - accuracy: 0.8126 - val_loss: 0.4709 - val_accuracy: 0.8211\n",
      "Epoch 72/100\n",
      "16/16 [==============================] - 0s 3ms/step - loss: 0.4407 - accuracy: 0.8147 - val_loss: 0.4717 - val_accuracy: 0.8211\n",
      "Epoch 73/100\n",
      "16/16 [==============================] - 0s 3ms/step - loss: 0.4406 - accuracy: 0.8147 - val_loss: 0.4710 - val_accuracy: 0.8211\n",
      "Epoch 74/100\n",
      "16/16 [==============================] - 0s 3ms/step - loss: 0.4405 - accuracy: 0.8167 - val_loss: 0.4717 - val_accuracy: 0.8211\n",
      "Epoch 75/100\n",
      "16/16 [==============================] - 0s 3ms/step - loss: 0.4397 - accuracy: 0.8167 - val_loss: 0.4720 - val_accuracy: 0.8211\n",
      "Epoch 76/100\n",
      "16/16 [==============================] - 0s 3ms/step - loss: 0.4399 - accuracy: 0.8187 - val_loss: 0.4719 - val_accuracy: 0.8211\n",
      "Epoch 77/100\n",
      "16/16 [==============================] - 0s 3ms/step - loss: 0.4393 - accuracy: 0.8187 - val_loss: 0.4721 - val_accuracy: 0.8211\n",
      "Epoch 78/100\n",
      "16/16 [==============================] - 0s 3ms/step - loss: 0.4423 - accuracy: 0.8167 - val_loss: 0.4721 - val_accuracy: 0.8211\n",
      "Epoch 79/100\n",
      "16/16 [==============================] - 0s 3ms/step - loss: 0.4386 - accuracy: 0.8187 - val_loss: 0.4738 - val_accuracy: 0.8211\n",
      "Epoch 80/100\n",
      "16/16 [==============================] - 0s 3ms/step - loss: 0.4390 - accuracy: 0.8187 - val_loss: 0.4730 - val_accuracy: 0.8211\n",
      "Epoch 81/100\n",
      "16/16 [==============================] - 0s 3ms/step - loss: 0.4389 - accuracy: 0.8187 - val_loss: 0.4732 - val_accuracy: 0.8211\n",
      "Epoch 82/100\n",
      "16/16 [==============================] - 0s 3ms/step - loss: 0.4383 - accuracy: 0.8187 - val_loss: 0.4738 - val_accuracy: 0.8211\n",
      "Epoch 83/100\n",
      "16/16 [==============================] - 0s 3ms/step - loss: 0.4397 - accuracy: 0.8167 - val_loss: 0.4723 - val_accuracy: 0.8211\n",
      "Epoch 84/100\n",
      "16/16 [==============================] - 0s 3ms/step - loss: 0.4393 - accuracy: 0.8187 - val_loss: 0.4731 - val_accuracy: 0.8211\n",
      "Epoch 85/100\n",
      "16/16 [==============================] - 0s 3ms/step - loss: 0.4378 - accuracy: 0.8187 - val_loss: 0.4727 - val_accuracy: 0.8211\n",
      "Epoch 86/100\n",
      "16/16 [==============================] - 0s 3ms/step - loss: 0.4370 - accuracy: 0.8208 - val_loss: 0.4730 - val_accuracy: 0.8211\n",
      "Epoch 87/100\n",
      "16/16 [==============================] - 0s 3ms/step - loss: 0.4381 - accuracy: 0.8187 - val_loss: 0.4736 - val_accuracy: 0.8211\n",
      "Epoch 88/100\n",
      "16/16 [==============================] - 0s 3ms/step - loss: 0.4378 - accuracy: 0.8187 - val_loss: 0.4730 - val_accuracy: 0.8211\n",
      "Epoch 89/100\n",
      "16/16 [==============================] - 0s 3ms/step - loss: 0.4375 - accuracy: 0.8167 - val_loss: 0.4730 - val_accuracy: 0.8211\n",
      "Epoch 90/100\n",
      "16/16 [==============================] - 0s 3ms/step - loss: 0.4372 - accuracy: 0.8187 - val_loss: 0.4735 - val_accuracy: 0.8211\n",
      "Epoch 91/100\n",
      "16/16 [==============================] - 0s 3ms/step - loss: 0.4365 - accuracy: 0.8187 - val_loss: 0.4735 - val_accuracy: 0.8211\n",
      "Epoch 92/100\n",
      "16/16 [==============================] - 0s 3ms/step - loss: 0.4355 - accuracy: 0.8187 - val_loss: 0.4736 - val_accuracy: 0.8211\n",
      "Epoch 93/100\n",
      "16/16 [==============================] - 0s 3ms/step - loss: 0.4349 - accuracy: 0.8187 - val_loss: 0.4740 - val_accuracy: 0.8211\n",
      "Epoch 94/100\n",
      "16/16 [==============================] - 0s 3ms/step - loss: 0.4361 - accuracy: 0.8208 - val_loss: 0.4738 - val_accuracy: 0.8211\n",
      "Epoch 95/100\n",
      "16/16 [==============================] - 0s 3ms/step - loss: 0.4353 - accuracy: 0.8187 - val_loss: 0.4740 - val_accuracy: 0.8211\n",
      "Epoch 96/100\n",
      "16/16 [==============================] - 0s 3ms/step - loss: 0.4357 - accuracy: 0.8208 - val_loss: 0.4747 - val_accuracy: 0.8211\n",
      "Epoch 97/100\n",
      "16/16 [==============================] - 0s 3ms/step - loss: 0.4350 - accuracy: 0.8208 - val_loss: 0.4742 - val_accuracy: 0.8211\n",
      "Epoch 98/100\n",
      "16/16 [==============================] - 0s 3ms/step - loss: 0.4345 - accuracy: 0.8187 - val_loss: 0.4747 - val_accuracy: 0.8211\n",
      "Epoch 99/100\n",
      "16/16 [==============================] - 0s 3ms/step - loss: 0.4343 - accuracy: 0.8187 - val_loss: 0.4741 - val_accuracy: 0.8211\n",
      "Epoch 100/100\n",
      "16/16 [==============================] - 0s 3ms/step - loss: 0.4339 - accuracy: 0.8208 - val_loss: 0.4748 - val_accuracy: 0.8211\n"
     ]
    }
   ],
   "source": [
    "# training the model\n",
    "\n",
    "# passing the independent and dependent features for training set for training the model\n",
    "# validation data will be evaluated at the end of each epoch\n",
    "# setting the epochs as 50\n",
    "# storing the trained model in model_history variable which will be used to visualize the training process\n",
    "model_history = model.fit(X_train, y_train, validation_data=(X_test, y_test), epochs=100)"
   ],
   "metadata": {
    "collapsed": false,
    "ExecuteTime": {
     "end_time": "2023-10-06T19:43:11.941219Z",
     "start_time": "2023-10-06T19:43:05.491259Z"
    }
   },
   "id": "17db7374f3f22142"
  },
  {
   "cell_type": "code",
   "execution_count": 58,
   "outputs": [
    {
     "name": "stdout",
     "output_type": "stream",
     "text": [
      "16/16 [==============================] - 0s 1ms/step - loss: 0.4326 - accuracy: 0.8228\n",
      "\n",
      "accuracy: 82.28%\n"
     ]
    }
   ],
   "source": [
    "scores = model.evaluate(X_train, y_train)\n",
    "print(\"\\n%s: %.2f%%\" % (model.metrics_names[1], scores[1]*100))"
   ],
   "metadata": {
    "collapsed": false,
    "ExecuteTime": {
     "end_time": "2023-10-06T19:49:59.678586Z",
     "start_time": "2023-10-06T19:49:59.482781Z"
    }
   },
   "id": "df2e1f096263562d"
  },
  {
   "cell_type": "code",
   "execution_count": 59,
   "outputs": [
    {
     "name": "stdout",
     "output_type": "stream",
     "text": [
      "4/4 [==============================] - 0s 2ms/step - loss: 0.4748 - accuracy: 0.8211\n",
      "\n",
      "accuracy: 82.11%\n"
     ]
    }
   ],
   "source": [
    "scores = model.evaluate(X_test, y_test)\n",
    "print(\"\\n%s: %.2f%%\" % (model.metrics_names[1], scores[1]*100))"
   ],
   "metadata": {
    "collapsed": false,
    "ExecuteTime": {
     "end_time": "2023-10-06T19:50:13.849208Z",
     "start_time": "2023-10-06T19:50:13.770295Z"
    }
   },
   "id": "f07a0d846644ec27"
  },
  {
   "cell_type": "code",
   "execution_count": 60,
   "outputs": [
    {
     "name": "stderr",
     "output_type": "stream",
     "text": [
      "/Users/malaikakamranrana/PycharmProjects/Loan/venv/lib/python3.9/site-packages/keras/src/engine/training.py:3079: UserWarning: You are saving your model as an HDF5 file via `model.save()`. This file format is considered legacy. We recommend using instead the native Keras format, e.g. `model.save('my_model.keras')`.\n",
      "  saving_api.save_model(\n"
     ]
    }
   ],
   "source": [
    "model.save(\"Loan_Class.h5\")"
   ],
   "metadata": {
    "collapsed": false,
    "ExecuteTime": {
     "end_time": "2023-10-06T19:50:24.573252Z",
     "start_time": "2023-10-06T19:50:24.391363Z"
    }
   },
   "id": "d24adb82107d38a6"
  },
  {
   "cell_type": "code",
   "execution_count": 61,
   "outputs": [
    {
     "data": {
      "text/plain": "<Figure size 640x480 with 1 Axes>",
      "image/png": "[encoded data removed]"
     },
     "metadata": {},
     "output_type": "display_data"
    }
   ],
   "source": [
    "# summarize history for loss\n",
    "plt.plot(model_history.history['accuracy'])\n",
    "plt.plot(model_history.history['val_accuracy'])\n",
    "plt.title('model accuracy')\n",
    "plt.ylabel('accuracy')\n",
    "plt.xlabel('epoch')\n",
    "plt.legend(['train', 'validation'], loc='lower right')\n",
    "plt.show()"
   ],
   "metadata": {
    "collapsed": false,
    "ExecuteTime": {
     "end_time": "2023-10-06T19:50:50.487318Z",
     "start_time": "2023-10-06T19:50:49.872030Z"
    }
   },
   "id": "9d98087c4f55c60"
  },
  {
   "cell_type": "code",
   "execution_count": 62,
   "outputs": [
    {
     "name": "stdout",
     "output_type": "stream",
     "text": [
      "Collecting netron\r\n",
      "  Downloading netron-7.2.1-py3-none-any.whl (1.6 MB)\r\n",
      "\u001B[2K     \u001B[90m━━━━━━━━━━━━━━━━━━━━━━━━━━━━━━━━━━━━━━━━\u001B[0m \u001B[32m1.6/1.6 MB\u001B[0m \u001B[31m4.6 MB/s\u001B[0m eta \u001B[36m0:00:00\u001B[0m00:01\u001B[0m00:01\u001B[0m\r\n",
      "\u001B[?25hInstalling collected packages: netron\r\n",
      "Successfully installed netron-7.2.1\r\n",
      "\r\n",
      "\u001B[1m[\u001B[0m\u001B[34;49mnotice\u001B[0m\u001B[1;39;49m]\u001B[0m\u001B[39;49m A new release of pip available: \u001B[0m\u001B[31;49m22.3.1\u001B[0m\u001B[39;49m -> \u001B[0m\u001B[32;49m23.2.1\u001B[0m\r\n",
      "\u001B[1m[\u001B[0m\u001B[34;49mnotice\u001B[0m\u001B[1;39;49m]\u001B[0m\u001B[39;49m To update, run: \u001B[0m\u001B[32;49mpip install --upgrade pip\u001B[0m\r\n"
     ]
    }
   ],
   "source": [
    "! pip install --upgrade netron"
   ],
   "metadata": {
    "collapsed": false,
    "ExecuteTime": {
     "end_time": "2023-10-06T19:51:09.272220Z",
     "start_time": "2023-10-06T19:51:03.691825Z"
    }
   },
   "id": "608f2e65724c7b35"
  },
  {
   "cell_type": "code",
   "execution_count": 63,
   "outputs": [],
   "source": [
    "import netron"
   ],
   "metadata": {
    "collapsed": false,
    "ExecuteTime": {
     "end_time": "2023-10-06T19:51:26.241964Z",
     "start_time": "2023-10-06T19:51:26.193327Z"
    }
   },
   "id": "7ca3f9f2898e9864"
  },
  {
   "cell_type": "code",
   "execution_count": 65,
   "outputs": [
    {
     "name": "stdout",
     "output_type": "stream",
     "text": [
      "Serving 'Loan_Class.h5' at http://localhost:8081\n"
     ]
    },
    {
     "data": {
      "text/plain": "('localhost', 8081)"
     },
     "execution_count": 65,
     "metadata": {},
     "output_type": "execute_result"
    }
   ],
   "source": [
    "netron.start(\"Loan_Class.h5\")"
   ],
   "metadata": {
    "collapsed": false,
    "ExecuteTime": {
     "end_time": "2023-10-06T19:52:19.172074Z",
     "start_time": "2023-10-06T19:52:18.899055Z"
    }
   },
   "id": "f22ce0d85de5d5c"
  },
  {
   "cell_type": "code",
   "execution_count": null,
   "outputs": [],
   "source": [],
   "metadata": {
    "collapsed": false
   },
   "id": "5a72e2600357bed7"
  }
 ],
 "metadata": {
  "kernelspec": {
   "display_name": "Python 3",
   "language": "python",
   "name": "python3"
  },
  "language_info": {
   "codemirror_mode": {
    "name": "ipython",
    "version": 2
   },
   "file_extension": ".py",
   "mimetype": "text/x-python",
   "name": "python",
   "nbconvert_exporter": "python",
   "pygments_lexer": "ipython2",
   "version": "2.7.6"
  }
 },
 "nbformat": 4,
 "nbformat_minor": 5
}
